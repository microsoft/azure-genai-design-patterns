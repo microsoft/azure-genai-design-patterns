{
 "cells": [
  {
   "cell_type": "code",
   "execution_count": 1,
   "metadata": {},
   "outputs": [
    {
     "name": "stdout",
     "output_type": "stream",
     "text": [
      "[{'id': '', 'boundingRegions': [{'pageNumber': 8, 'polygon': [1.1132, 1.7052, 7.4576, 1.7025, 7.455, 8.8763, 1.1118, 8.875]}, {'pageNumber': 8, 'polygon': [0.9596, 9.0234, 7.5163, 9.0187, 7.5166, 9.3698, 0.9598, 9.3746]}], 'spans': [{'offset': 23759, 'length': 3309}], 'elements': ['/paragraphs/84', '/paragraphs/85', '/paragraphs/86', '/paragraphs/87', '/paragraphs/88', '/paragraphs/89', '/paragraphs/90', '/paragraphs/91', '/paragraphs/92', '/paragraphs/93', '/paragraphs/94', '/paragraphs/95', '/paragraphs/96', '/paragraphs/97', '/paragraphs/98', '/paragraphs/99', '/paragraphs/100', '/paragraphs/101', '/paragraphs/102', '/paragraphs/103', '/paragraphs/104', '/paragraphs/105', '/paragraphs/106', '/paragraphs/107', '/paragraphs/108', '/paragraphs/109', '/paragraphs/110', '/paragraphs/111', '/paragraphs/112', '/paragraphs/113', '/paragraphs/114', '/paragraphs/115', '/paragraphs/116', '/paragraphs/117', '/paragraphs/118', '/paragraphs/119', '/paragraphs/120', '/paragraphs/121', '/paragraphs/122', '/paragraphs/123', '/paragraphs/124', '/paragraphs/125'], 'caption': {'content': 'Figure 1: Example prompts that led to harmful content in GPT-4-early. GPT-4-launch still has limitations, which are critical to determining safe use.', 'boundingRegions': [{'pageNumber': 8, 'polygon': [0.9596, 9.0234, 7.5163, 9.0187, 7.5166, 9.3698, 0.9598, 9.3746]}], 'spans': [{'offset': 26919, 'length': 149}], 'elements': ['/paragraphs/125']}}, {'id': '', 'boundingRegions': [{'pageNumber': 9, 'polygon': [1.0961, 4.7483, 7.4757, 4.7462, 7.4797, 7.0137, 1.1, 7.0148]}, {'pageNumber': 9, 'polygon': [0.9694, 7.2235, 7.5354, 7.2235, 7.5354, 7.763, 0.9694, 7.763]}], 'spans': [{'offset': 29703, 'length': 1065}, {'offset': 28837, 'length': 255}], 'elements': ['/paragraphs/130'], 'caption': {'content': 'Figure 2: We highlight this example as a non-adversarial prompt where the generation from GPT-4- early exhibits biases about sexuality and norms around marriage (e.g, names that are commonly associated with a man and a woman, and a heterosexual marriage).', 'boundingRegions': [{'pageNumber': 9, 'polygon': [0.9694, 7.2235, 7.5354, 7.2235, 7.5354, 7.763, 0.9694, 7.763]}], 'spans': [{'offset': 28837, 'length': 255}], 'elements': ['/paragraphs/130']}}, {'id': '', 'boundingRegions': [{'pageNumber': 10, 'polygon': [1.0931, 2.7582, 7.4553, 2.7572, 7.4568, 4.6169, 1.0952, 4.6169]}, {'pageNumber': 10, 'polygon': [0.9694, 4.8077, 7.5211, 4.8077, 7.5211, 5.352, 0.9694, 5.352]}], 'spans': [{'offset': 31523, 'length': 1376}], 'elements': ['/paragraphs/147', '/paragraphs/148', '/paragraphs/149', '/paragraphs/150', '/paragraphs/151', '/paragraphs/152', '/paragraphs/153', '/paragraphs/154'], 'caption': {'content': 'Figure 3: Example prompts that led to biased content in GPT-4-early. These examples demonstrates how GPT-4-launch and our mitigations still have important limitations: assuming offensiveness can itself be offensive, and caveats can be insufficient for discouraging unsafe use.', 'boundingRegions': [{'pageNumber': 10, 'polygon': [0.9694, 4.8077, 7.5211, 4.8077, 7.5211, 5.352, 0.9694, 5.352]}], 'spans': [{'offset': 32623, 'length': 276}], 'elements': ['/paragraphs/154']}}, {'id': '', 'boundingRegions': [{'pageNumber': 11, 'polygon': [1.0983, 1.0172, 7.4643, 1.0093, 7.468, 5.5262, 1.1022, 5.5325]}, {'pageNumber': 11, 'polygon': [0.9691, 5.7148, 7.5211, 5.7101, 7.5213, 6.0586, 0.9694, 6.0634]}], 'spans': [{'offset': 35039, 'length': 2186}], 'elements': ['/paragraphs/162', '/paragraphs/163', '/paragraphs/164', '/paragraphs/165', '/paragraphs/166', '/paragraphs/167', '/paragraphs/168', '/paragraphs/169', '/paragraphs/170', '/paragraphs/171', '/paragraphs/172', '/paragraphs/173', '/paragraphs/174', '/paragraphs/175', '/paragraphs/176', '/paragraphs/177', '/paragraphs/178', '/paragraphs/179', '/paragraphs/180', '/paragraphs/181', '/paragraphs/182', '/paragraphs/183'], 'caption': {'content': 'Figure 4: Example prompts that led to content that could be used for disinformation or influence operations.', 'boundingRegions': [{'pageNumber': 11, 'polygon': [0.9691, 5.7148, 7.5211, 5.7101, 7.5213, 6.0586, 0.9694, 6.0634]}], 'spans': [{'offset': 37117, 'length': 108}], 'elements': ['/paragraphs/183']}}, {'id': '', 'boundingRegions': [{'pageNumber': 13, 'polygon': [2.0679, 2.8466, 6.4692, 2.8462, 6.4698, 4.103, 2.0689, 4.1031]}], 'spans': [{'offset': 43879, 'length': 341}], 'elements': ['/paragraphs/199', '/paragraphs/200', '/paragraphs/201', '/paragraphs/202']}, {'id': '', 'boundingRegions': [{'pageNumber': 14, 'polygon': [2.0681, 5.4988, 6.4915, 5.5107, 6.4873, 8.5332, 2.0645, 8.521]}], 'spans': [{'offset': 48455, 'length': 1382}], 'elements': ['/paragraphs/216', '/paragraphs/217', '/paragraphs/218', '/paragraphs/219', '/paragraphs/220', '/paragraphs/221', '/paragraphs/222', '/paragraphs/223', '/paragraphs/224', '/paragraphs/225']}, {'id': '', 'boundingRegions': [{'pageNumber': 17, 'polygon': [1.0837, 5.7541, 7.4896, 5.775, 7.4744, 7.4462, 1.0697, 7.4244]}], 'spans': [{'offset': 58886, 'length': 1067}], 'elements': ['/paragraphs/270', '/paragraphs/271', '/paragraphs/272', '/paragraphs/273', '/paragraphs/274']}, {'id': '', 'boundingRegions': [{'pageNumber': 23, 'polygon': [2.2257, 5.8873, 5.974, 5.886, 5.9738, 8.5494, 2.2256, 8.5498]}], 'spans': [{'offset': 81352, 'length': 120}, {'offset': 82038, 'length': 36}], 'elements': ['/paragraphs/351', '/paragraphs/352', '/paragraphs/353', '/paragraphs/354', '/paragraphs/355', '/paragraphs/356', '/paragraphs/357', '/paragraphs/358', '/paragraphs/359', '/paragraphs/360', '/paragraphs/361', '/paragraphs/362']}, {'id': '', 'boundingRegions': [{'pageNumber': 25, 'polygon': [2.2185, 3.5746, 6.0571, 3.5697, 6.0593, 6.5132, 2.2208, 6.5169]}, {'pageNumber': 25, 'polygon': [0.9598, 6.9275, 7.5402, 6.9275, 7.5402, 7.4718, 0.9598, 7.4718]}], 'spans': [{'offset': 85374, 'length': 291}, {'offset': 85957, 'length': 12}, {'offset': 85666, 'length': 287}], 'elements': ['/paragraphs/382', '/paragraphs/383', '/paragraphs/384', '/paragraphs/385', '/paragraphs/386', '/paragraphs/387', '/paragraphs/388', '/paragraphs/389', '/paragraphs/390', '/paragraphs/391', '/paragraphs/392', '/paragraphs/393', '/paragraphs/394', '/paragraphs/395', '/paragraphs/396', '/paragraphs/397', '/paragraphs/398', '/paragraphs/399', '/paragraphs/400', '/paragraphs/401', '/paragraphs/402', '/paragraphs/403', '/paragraphs/404', '/paragraphs/405', '/paragraphs/406', '/paragraphs/407', '/paragraphs/408', '/paragraphs/409'], 'caption': {'content': 'Figure 8: Performance of GPT-4 on TruthfulQA. Accuracy is shown on the y-axis, higher is better. We compare GPT-4 under zero-shot prompting, few-shot prompting, and after RLHF fine-tuning. GPT-4 significantly outperforms both GPT-3.5 and Askell et al [100].fixes to plot legend and title', 'boundingRegions': [{'pageNumber': 25, 'polygon': [0.9598, 6.9275, 7.5402, 6.9275, 7.5402, 7.4718, 0.9598, 7.4718]}], 'spans': [{'offset': 85666, 'length': 287}], 'elements': ['/paragraphs/409']}}, {'id': '', 'boundingRegions': [{'pageNumber': 28, 'polygon': [1.091, 3.1981, 5.3607, 3.1992, 5.359, 5.1816, 1.0903, 5.1802]}], 'spans': [{'offset': 93836, 'length': 302}], 'elements': ['/paragraphs/465', '/paragraphs/466', '/paragraphs/467', '/paragraphs/468']}, {'id': '', 'boundingRegions': [{'pageNumber': 58, 'polygon': [1.4989, 2.3859, 7.4404, 2.3807, 7.4356, 8.2626, 1.4954, 8.2652]}, {'pageNumber': 58, 'polygon': [1.4611, 8.4505, 7.0244, 8.4457, 7.0246, 8.6081, 1.4612, 8.6128]}], 'spans': [{'offset': 166265, 'length': 47}, {'offset': 166322, 'length': 180}], 'elements': ['/paragraphs/964', '/paragraphs/965', '/paragraphs/966', '/paragraphs/967'], 'caption': {'content': 'Figure 11: Results on IF evaluations across GPT3.5, GPT3.5-Turbo, GPT-4-launch', 'boundingRegions': [{'pageNumber': 58, 'polygon': [1.4611, 8.4505, 7.0244, 8.4457, 7.0246, 8.6081, 1.4612, 8.6128]}], 'spans': [{'offset': 166424, 'length': 78}], 'elements': ['/paragraphs/967']}}]\n"
     ]
    }
   ],
   "source": [
    "import json\n",
    "\n",
    "def read_json_file(file_path):\n",
    "    with open(file_path, 'r') as file:\n",
    "        json_data = json.load(file)\n",
    "    return json_data\n",
    "\n",
    "doc_intel_output = read_json_file('../data/doc_intel_json_output/gpt_4_system_card_pdf.json')\n",
    "\n",
    "def create_figures(doc_intel_output):\n",
    "    figures = doc_intel_output['analyzeResult']['figures']\n",
    "    return figures\n",
    "\n",
    "print(figures)"
   ]
  },
  {
   "cell_type": "code",
   "execution_count": 2,
   "metadata": {},
   "outputs": [
    {
     "name": "stdout",
     "output_type": "stream",
     "text": [
      "[{'pageNumber': 8, 'polygon': [1.1132, 1.7052, 7.4576, 1.7025, 7.455, 8.8763, 1.1118, 8.875]}, {'pageNumber': 8, 'polygon': [0.9596, 9.0234, 7.5163, 9.0187, 7.5166, 9.3698, 0.9598, 9.3746]}, {'pageNumber': 9, 'polygon': [1.0961, 4.7483, 7.4757, 4.7462, 7.4797, 7.0137, 1.1, 7.0148]}, {'pageNumber': 9, 'polygon': [0.9694, 7.2235, 7.5354, 7.2235, 7.5354, 7.763, 0.9694, 7.763]}, {'pageNumber': 10, 'polygon': [1.0931, 2.7582, 7.4553, 2.7572, 7.4568, 4.6169, 1.0952, 4.6169]}, {'pageNumber': 10, 'polygon': [0.9694, 4.8077, 7.5211, 4.8077, 7.5211, 5.352, 0.9694, 5.352]}, {'pageNumber': 11, 'polygon': [1.0983, 1.0172, 7.4643, 1.0093, 7.468, 5.5262, 1.1022, 5.5325]}, {'pageNumber': 11, 'polygon': [0.9691, 5.7148, 7.5211, 5.7101, 7.5213, 6.0586, 0.9694, 6.0634]}, {'pageNumber': 13, 'polygon': [2.0679, 2.8466, 6.4692, 2.8462, 6.4698, 4.103, 2.0689, 4.1031]}, {'pageNumber': 14, 'polygon': [2.0681, 5.4988, 6.4915, 5.5107, 6.4873, 8.5332, 2.0645, 8.521]}, {'pageNumber': 17, 'polygon': [1.0837, 5.7541, 7.4896, 5.775, 7.4744, 7.4462, 1.0697, 7.4244]}, {'pageNumber': 23, 'polygon': [2.2257, 5.8873, 5.974, 5.886, 5.9738, 8.5494, 2.2256, 8.5498]}, {'pageNumber': 25, 'polygon': [2.2185, 3.5746, 6.0571, 3.5697, 6.0593, 6.5132, 2.2208, 6.5169]}, {'pageNumber': 25, 'polygon': [0.9598, 6.9275, 7.5402, 6.9275, 7.5402, 7.4718, 0.9598, 7.4718]}, {'pageNumber': 28, 'polygon': [1.091, 3.1981, 5.3607, 3.1992, 5.359, 5.1816, 1.0903, 5.1802]}, {'pageNumber': 58, 'polygon': [1.4989, 2.3859, 7.4404, 2.3807, 7.4356, 8.2626, 1.4954, 8.2652]}, {'pageNumber': 58, 'polygon': [1.4611, 8.4505, 7.0244, 8.4457, 7.0246, 8.6081, 1.4612, 8.6128]}]\n"
     ]
    }
   ],
   "source": [
    "def extract_page_polygons(figures):  \n",
    "    page_polygons = []  \n",
    "  \n",
    "    for figure in figures:  \n",
    "        for region in figure['boundingRegions']:  \n",
    "            page_polygon_entry = {  \n",
    "                'pageNumber': region['pageNumber'],  \n",
    "                'polygon': region['polygon']  \n",
    "            }  \n",
    "            page_polygons.append(page_polygon_entry)  \n",
    "  \n",
    "    return page_polygons\n",
    "\n",
    "page_polygons = extract_page_polygons(figures)\n",
    "print(page_polygons)\n"
   ]
  },
  {
   "cell_type": "code",
   "execution_count": 5,
   "metadata": {},
   "outputs": [
    {
     "name": "stdout",
     "output_type": "stream",
     "text": [
      "{1: {'width': 8.5, 'height': 11, 'unit': 'inch'}, 2: {'width': 8.5, 'height': 11, 'unit': 'inch'}, 3: {'width': 8.5, 'height': 11, 'unit': 'inch'}, 4: {'width': 8.5, 'height': 11, 'unit': 'inch'}, 5: {'width': 8.5, 'height': 11, 'unit': 'inch'}, 6: {'width': 8.5, 'height': 11, 'unit': 'inch'}, 7: {'width': 8.5, 'height': 11, 'unit': 'inch'}, 8: {'width': 8.5, 'height': 11, 'unit': 'inch'}, 9: {'width': 8.5, 'height': 11, 'unit': 'inch'}, 10: {'width': 8.5, 'height': 11, 'unit': 'inch'}, 11: {'width': 8.5, 'height': 11, 'unit': 'inch'}, 12: {'width': 8.5, 'height': 11, 'unit': 'inch'}, 13: {'width': 8.5, 'height': 11, 'unit': 'inch'}, 14: {'width': 8.5, 'height': 11, 'unit': 'inch'}, 15: {'width': 8.5, 'height': 11, 'unit': 'inch'}, 16: {'width': 8.5, 'height': 11, 'unit': 'inch'}, 17: {'width': 8.5, 'height': 11, 'unit': 'inch'}, 18: {'width': 8.5, 'height': 11, 'unit': 'inch'}, 19: {'width': 8.5, 'height': 11, 'unit': 'inch'}, 20: {'width': 8.5, 'height': 11, 'unit': 'inch'}, 21: {'width': 8.5, 'height': 11, 'unit': 'inch'}, 22: {'width': 8.5, 'height': 11, 'unit': 'inch'}, 23: {'width': 8.5, 'height': 11, 'unit': 'inch'}, 24: {'width': 8.5, 'height': 11, 'unit': 'inch'}, 25: {'width': 8.5, 'height': 11, 'unit': 'inch'}, 26: {'width': 8.5, 'height': 11, 'unit': 'inch'}, 27: {'width': 8.5, 'height': 11, 'unit': 'inch'}, 28: {'width': 8.5, 'height': 11, 'unit': 'inch'}, 29: {'width': 8.5, 'height': 11, 'unit': 'inch'}, 30: {'width': 8.5, 'height': 11, 'unit': 'inch'}, 31: {'width': 8.5, 'height': 11, 'unit': 'inch'}, 32: {'width': 8.5, 'height': 11, 'unit': 'inch'}, 33: {'width': 8.5, 'height': 11, 'unit': 'inch'}, 34: {'width': 8.5, 'height': 11, 'unit': 'inch'}, 35: {'width': 8.5, 'height': 11, 'unit': 'inch'}, 36: {'width': 8.5, 'height': 11, 'unit': 'inch'}, 37: {'width': 8.5, 'height': 11, 'unit': 'inch'}, 38: {'width': 8.5, 'height': 11, 'unit': 'inch'}, 39: {'width': 8.5, 'height': 11, 'unit': 'inch'}, 40: {'width': 8.5, 'height': 11, 'unit': 'inch'}, 41: {'width': 8.5, 'height': 11, 'unit': 'inch'}, 42: {'width': 8.5, 'height': 11, 'unit': 'inch'}, 43: {'width': 8.5, 'height': 11, 'unit': 'inch'}, 44: {'width': 8.5, 'height': 11, 'unit': 'inch'}, 45: {'width': 8.5, 'height': 11, 'unit': 'inch'}, 46: {'width': 8.5, 'height': 11, 'unit': 'inch'}, 47: {'width': 8.5, 'height': 11, 'unit': 'inch'}, 48: {'width': 8.5, 'height': 11, 'unit': 'inch'}, 49: {'width': 8.5, 'height': 11, 'unit': 'inch'}, 50: {'width': 8.5, 'height': 11, 'unit': 'inch'}, 51: {'width': 8.5, 'height': 11, 'unit': 'inch'}, 52: {'width': 8.5, 'height': 11, 'unit': 'inch'}, 53: {'width': 8.5, 'height': 11, 'unit': 'inch'}, 54: {'width': 8.5, 'height': 11, 'unit': 'inch'}, 55: {'width': 8.5, 'height': 11, 'unit': 'inch'}, 56: {'width': 8.5, 'height': 11, 'unit': 'inch'}, 57: {'width': 8.5, 'height': 11, 'unit': 'inch'}, 58: {'width': 8.5, 'height': 11, 'unit': 'inch'}, 59: {'width': 8.5, 'height': 11, 'unit': 'inch'}, 60: {'width': 8.5, 'height': 11, 'unit': 'inch'}}\n"
     ]
    }
   ],
   "source": [
    "# def extract_page_info(doc_intel_output):  \n",
    "#     pages_info = {}  \n",
    "#     analyze_result = doc_intel_output.get('analyzeResult', {})  \n",
    "#     pages = analyze_result.get('pages', [])  \n",
    "      \n",
    "#     for page in pages:  \n",
    "#         page_number = page['pageNumber']  \n",
    "#         pages_info[f\"pageNumber: {page_number}\"] = {  \n",
    "#             \"width\": page['width'],  \n",
    "#             \"height\": page['height'],  \n",
    "#             \"unit\": page['unit']  \n",
    "#         }  \n",
    "#     return pages_info\n",
    "\n",
    "def extract_page_info(doc_intel_output):  \n",
    "    pages_info = {}  \n",
    "    analyze_result = doc_intel_output.get('analyzeResult', {})  \n",
    "    pages = analyze_result.get('pages', [])  \n",
    "  \n",
    "    for page in pages:  \n",
    "        page_number = page['pageNumber']  \n",
    "        pages_info[page_number] = {  \n",
    "            \"width\": page['width'],  \n",
    "            \"height\": page['height'],  \n",
    "            \"unit\": page['unit']  \n",
    "        }  \n",
    "    return pages_info\n",
    "\n",
    "pages_info = extract_page_info(doc_intel_output)\n",
    "print(pages_info)"
   ]
  }
 ],
 "metadata": {
  "kernelspec": {
   "display_name": "genaidesignpatterns",
   "language": "python",
   "name": "python3"
  },
  "language_info": {
   "codemirror_mode": {
    "name": "ipython",
    "version": 3
   },
   "file_extension": ".py",
   "mimetype": "text/x-python",
   "name": "python",
   "nbconvert_exporter": "python",
   "pygments_lexer": "ipython3",
   "version": "3.12.1"
  }
 },
 "nbformat": 4,
 "nbformat_minor": 2
}
